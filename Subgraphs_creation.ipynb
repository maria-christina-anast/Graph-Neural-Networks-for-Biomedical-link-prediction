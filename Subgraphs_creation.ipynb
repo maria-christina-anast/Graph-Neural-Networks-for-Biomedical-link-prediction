{
 "cells": [
  {
   "cell_type": "code",
   "execution_count": 1,
   "id": "82ebbb7d",
   "metadata": {},
   "outputs": [
    {
     "name": "stderr",
     "output_type": "stream",
     "text": [
      "/Users/mariachristina/anaconda3/lib/python3.11/site-packages/pandas/core/arrays/masked.py:60: UserWarning: Pandas requires version '1.3.6' or newer of 'bottleneck' (version '1.3.5' currently installed).\n",
      "  from pandas.core import (\n"
     ]
    }
   ],
   "source": [
    "from rdflib import Graph, URIRef\n",
    "from rdflib.namespace import RDF, RDFS\n",
    "from graphviz import Digraph\n",
    "import networkx as nx\n",
    "import matplotlib.pyplot as plt\n",
    "import random\n",
    "from collections import defaultdict\n",
    "import plotly.graph_objs as go\n",
    "import plotly.io as pio\n",
    "import numpy as np\n",
    "import pandas as pd\n",
    "from pyvis.network import Network\n"
   ]
  },
  {
   "cell_type": "code",
   "execution_count": 3,
   "id": "1728ed11",
   "metadata": {},
   "outputs": [
    {
     "data": {
      "text/plain": [
       "<Graph identifier=Nfdc9302817dc457a994d705a642a27be (<class 'rdflib.graph.Graph'>)>"
      ]
     },
     "execution_count": 3,
     "metadata": {},
     "output_type": "execute_result"
    }
   ],
   "source": [
    "# Load RDF graph\n",
    "graph = Graph()\n",
    "graph.parse(\"oreganov2.1.rdf\", format=\"xml\")"
   ]
  },
  {
   "cell_type": "code",
   "execution_count": 29,
   "id": "9df7c5aa",
   "metadata": {},
   "outputs": [],
   "source": [
    "def get_direct_links(graph, node):\n",
    "    direct_links = set()\n",
    "    for s, p, o in graph.triples((None, None, node)):\n",
    "        direct_links.add((s, p, o))\n",
    "    for s, p, o in graph.triples((node, None, None)):\n",
    "        direct_links.add((s, p, o))\n",
    "    return direct_links\n",
    "\n",
    "\n",
    "def isolate_direct_links(graph, node, output_file):\n",
    "    direct_links = get_direct_links(graph, node)\n",
    "    isolated_graph = Graph()\n",
    "    isolated_graph += direct_links\n",
    "    isolated_graph.serialize(destination=output_file, format='xml')\n",
    "\n",
    "def isolate_direct_neighborhood(graph, node, output_file):\n",
    "    direct_links = get_direct_links(graph, node)\n",
    "    direct_neighbors = set()\n",
    "    for s, p, o in direct_links:\n",
    "        direct_neighbors |= set(graph.triples((s, None, None)))\n",
    "        direct_neighbors |= set(graph.triples((None, None, o)))\n",
    "    isolated_graph = Graph()\n",
    "    isolated_graph += direct_links\n",
    "    isolated_graph += direct_neighbors\n",
    "    isolated_graph.serialize(destination=output_file, format='xml')\n"
   ]
  },
  {
   "cell_type": "markdown",
   "id": "49135b1e",
   "metadata": {},
   "source": [
    "# Alzheimer neighbourhood"
   ]
  },
  {
   "cell_type": "code",
   "execution_count": 38,
   "id": "2b0cb0c3",
   "metadata": {},
   "outputs": [],
   "source": [
    "# Specify the node (Alzheimer's disease)\n",
    "node = URIRef(\"http://erias.fr/oregano/disease/disease_145\")\n",
    "\n",
    "# Output file for isolated graph\n",
    "output_file = \"alzheimer_direct_neighborhood.rdf\"\n",
    "\n",
    "# Isolate the direct neighborhood and store it in a new RDF file\n",
    "isolate_direct_neighborhood(graph, node, output_file)\n",
    "\n",
    "\n",
    "# Output file for isolated graph\n",
    "output_file_10 = \"alzheimer_direct_neighborhood_only.rdf\"\n",
    "\n",
    "# Isolate the direct neighborhood and store it in a new RDF file\n",
    "isolate_direct_links(graph, node, output_file_10)"
   ]
  },
  {
   "cell_type": "markdown",
   "id": "1998ec43",
   "metadata": {},
   "source": [
    "# First direct link to urinary bladder neoplasms"
   ]
  },
  {
   "cell_type": "code",
   "execution_count": 31,
   "id": "d5b6e987",
   "metadata": {},
   "outputs": [],
   "source": [
    "# Specify the node (urinary blader neoplasm disease)\n",
    "node_2 = URIRef(\"http://erias.fr/oregano/disease/disease_3310\")\n",
    "\n",
    "# Output file for isolated graph\n",
    "output_file_2 = \"urinary_direct_neighborhood_only.rdf\"\n",
    "\n",
    "# Isolate the direct neighborhood and store it in a new RDF file\n",
    "isolate_direct_links(graph, node_2, output_file_2)\n",
    "\n"
   ]
  },
  {
   "cell_type": "markdown",
   "id": "855bd91f",
   "metadata": {},
   "source": [
    "# First direct link to depression disease"
   ]
  },
  {
   "cell_type": "code",
   "execution_count": 32,
   "id": "67c3d4eb",
   "metadata": {},
   "outputs": [],
   "source": [
    "# Specify the node (urinary blader neoplasm disease)\n",
    "node_3 = URIRef(\"http://erias.fr/oregano/disease/disease_804\")\n",
    "\n",
    "# Output file for isolated graph\n",
    "output_file_3 = \"depression_direct_neighborhood_only.rdf\"\n",
    "\n",
    "# Isolate the direct neighborhood and store it in a new RDF file\n",
    "isolate_direct_links(graph, node_3, output_file_3)"
   ]
  },
  {
   "cell_type": "markdown",
   "id": "e0cfe9d6",
   "metadata": {},
   "source": [
    "# First direct link to brexpiprazole "
   ]
  },
  {
   "cell_type": "code",
   "execution_count": 33,
   "id": "cc08f786",
   "metadata": {},
   "outputs": [],
   "source": [
    "# Specify the node brexpiprazole\n",
    "node_4 = URIRef(\"http://erias.fr/oregano/compound/compound_8067\")\n",
    "\n",
    "# Output file for isolated graph\n",
    "output_file_4 = \"brexpiprazole_direct_neighborhood_only.rdf\"\n",
    "\n",
    "# Isolate the direct neighborhood and store it in a new RDF file\n",
    "isolate_direct_links(graph, node_4, output_file_4)"
   ]
  },
  {
   "cell_type": "markdown",
   "id": "67f5f944",
   "metadata": {},
   "source": [
    "# Find direct link to cardiovascular diseases"
   ]
  },
  {
   "cell_type": "code",
   "execution_count": 34,
   "id": "1506de11",
   "metadata": {},
   "outputs": [],
   "source": [
    "# Specify the node (cardiovascular disease)\n",
    "node_5 = URIRef(\"http://erias.fr/oregano/disease/disease_500\")\n",
    "\n",
    "# Output file for isolated graph\n",
    "output_file_5 = \"cardiovascular_direct_neighborhood_only.rdf\"\n",
    "\n",
    "# Isolate the direct neighborhood and store it in a new RDF file\n",
    "isolate_direct_links(graph, node_5, output_file_5)\n",
    "\n",
    "# Output file for isolated graph with the whole neighbour\n",
    "output_file_8 = \"cardiovascular_direct_neighborhood.rdf\"\n",
    "isolate_direct_neighborhood(graph, node_5, output_file_8)"
   ]
  },
  {
   "cell_type": "markdown",
   "id": "b2b87478",
   "metadata": {},
   "source": [
    "# Find direct link to contralateral breast cancer"
   ]
  },
  {
   "cell_type": "code",
   "execution_count": 35,
   "id": "d5aaafba",
   "metadata": {},
   "outputs": [],
   "source": [
    "# Specify the node (ovarian)\n",
    "node_6 = URIRef(\"http://erias.fr/oregano/disease/disease_685\")\n",
    "\n",
    "# Output file for isolated graph\n",
    "output_file_6 = \"breast_direct_neighborhood_only.rdf\"\n",
    "\n",
    "# Isolate the direct neighborhood and store it in a new RDF file\n",
    "isolate_direct_links(graph, node_6, output_file_6)\n",
    "\n",
    "# Output file for isolated graph with the whole neighbour\n",
    "output_file_9 = \"breast_direct_neighborhood.rdf\"\n",
    "isolate_direct_neighborhood(graph, node_6, output_file_9)"
   ]
  },
  {
   "cell_type": "markdown",
   "id": "ba46e667",
   "metadata": {},
   "source": [
    "# Find direct link to ovarian cancer\n"
   ]
  },
  {
   "cell_type": "code",
   "execution_count": 36,
   "id": "f835dcee",
   "metadata": {},
   "outputs": [],
   "source": [
    "# Specify the node (ovarian)\n",
    "node_7 = URIRef(\"http://erias.fr/oregano/disease/disease_2379\")\n",
    "\n",
    "# Output file for isolated graph\n",
    "output_file_7 = \"ovarian_direct_neighborhood_only.rdf\"\n",
    "\n",
    "# Isolate the direct neighborhood and store it in a new RDF file\n",
    "isolate_direct_links(graph, node_7, output_file_7)"
   ]
  },
  {
   "cell_type": "markdown",
   "id": "c5543cca",
   "metadata": {},
   "source": [
    "\n",
    "\n",
    "# Code to create one combined graph. Not used in this implementation"
   ]
  },
  {
   "cell_type": "markdown",
   "id": "5f335eda",
   "metadata": {},
   "source": [
    "# Combined graph"
   ]
  },
  {
   "cell_type": "code",
   "execution_count": 37,
   "id": "1dfdb8fc",
   "metadata": {},
   "outputs": [
    {
     "data": {
      "text/plain": [
       "<Graph identifier=Nc6d5dcac60744999b832cba33bfb2730 (<class 'rdflib.graph.Graph'>)>"
      ]
     },
     "execution_count": 37,
     "metadata": {},
     "output_type": "execute_result"
    }
   ],
   "source": [
    "# # List of RDF files to combine\n",
    "# rdf_files = ['alzheimer_direct_neighborhood.rdf', 'urinary_direct_neighborhood_only.rdf', 'depression_direct_neighborhood_only.rdf', 'brexpiprazole_direct_neighborhood_only.rdf', 'cardiovascular_direct_neighborhood.rdf', \"breast_direct_neighborhood.rdf\", \"ovarian_direct_neighborhood_only.rdf\"]  \n",
    "\n",
    "# # Create an empty graph\n",
    "# combined_graph = Graph()\n",
    "\n",
    "# # Load and combine each RDF file\n",
    "# for rdf_file in rdf_files:\n",
    "#     g = Graph()\n",
    "#     g.parse(rdf_file, format='xml') \n",
    "#     combined_graph += g\n",
    "\n",
    "# # Save the combined graph to a new RDF file\n",
    "# combined_graph.serialize(destination='combined_graph.rdf', format='xml')"
   ]
  },
  {
   "cell_type": "markdown",
   "id": "b3c74992",
   "metadata": {},
   "source": [
    "# Convert rdf to graphML"
   ]
  },
  {
   "cell_type": "code",
   "execution_count": 22,
   "id": "0f4d4ac1",
   "metadata": {},
   "outputs": [],
   "source": [
    "# def rdf_to_graphml(input_file, output_file):\n",
    "#     # Load RDF data\n",
    "#     rdf_graph = Graph()\n",
    "#     rdf_graph.parse(input_file, format=\"xml\")\n",
    "\n",
    "#     # Initialize an empty NetworkX graph\n",
    "#     nx_graph = nx.Graph()\n",
    "\n",
    "#     # Iterate through each triple in RDF and add nodes and edges to the NetworkX graph\n",
    "#     for subj, pred, obj in rdf_graph:\n",
    "#         # Convert RDF values to Python types\n",
    "#         subj_value = subj.toPython()\n",
    "#         pred_value = pred.toPython()\n",
    "#         obj_value = obj.toPython()\n",
    "\n",
    "#         # Add subject and object nodes\n",
    "#         nx_graph.add_node(subj_value)\n",
    "#         nx_graph.add_node(obj_value)\n",
    "#         # Add edge\n",
    "#         nx_graph.add_edge(subj_value, obj_value, label=str(pred_value))  # Convert pred_value to string\n",
    "\n",
    "#     # Export the NetworkX graph to GraphML format\n",
    "#     nx.write_graphml(nx_graph, output_file)"
   ]
  },
  {
   "cell_type": "code",
   "execution_count": 23,
   "id": "d390c326",
   "metadata": {},
   "outputs": [],
   "source": [
    "# rdf_to_graphml(\"alzheimer_direct_neighborhood.rdf\", \"alzheimer.graphml\")\n",
    "# rdf_to_graphml(\"depression_direct_neighborhood_only.rdf\", \"depression.graphml\")\n",
    "# rdf_to_graphml(\"urinary_direct_neighborhood_only.rdf\", \"urinary.graphml\")\n",
    "# rdf_to_graphml(\"brexpiprazole_direct_neighborhood_only.rdf\", \"brexpiprazole.graphml\")\n",
    "# rdf_to_graphml(\"cardiovascular_direct_neighborhood.rdf\", \"cardiovascular.graphml\")\n",
    "# rdf_to_graphml(\"breast_direct_neighborhood.rdf\", \"breast.graphml\")\n",
    "# rdf_to_graphml(\"breast_direct_neighborhood_only.rdf\", \"ovarian.graphml\")"
   ]
  },
  {
   "cell_type": "markdown",
   "id": "1cc3a356",
   "metadata": {},
   "source": [
    "# Find common nodes between the graphs"
   ]
  },
  {
   "cell_type": "code",
   "execution_count": 24,
   "id": "532a959e",
   "metadata": {},
   "outputs": [],
   "source": [
    "# train_graph = nx.read_graphml('alzheimer.graphml')\n",
    "# train_graph_2 = nx.read_graphml('depression.graphml')\n",
    "# train_graph_3 = nx.read_graphml('urinary.graphml')\n",
    "# train_graph_4 = nx.read_graphml('brexpiprazole.graphml')\n"
   ]
  },
  {
   "cell_type": "code",
   "execution_count": 3,
   "id": "4d42af49",
   "metadata": {},
   "outputs": [
    {
     "name": "stdout",
     "output_type": "stream",
     "text": [
      "Common nodes between Alzheimer and Urinary:\n",
      "http://erias.fr/oregano/gene/gene_8395\n",
      "http://erias.fr/oregano/compound/compound_526\n",
      "http://erias.fr/oregano/compound/compound_323\n",
      "http://erias.fr/oregano/gene/gene_16112\n",
      "http://erias.fr/oregano/compound/compound_700\n",
      "http://erias.fr/oregano/gene/gene_4352\n",
      "http://erias.fr/oregano/gene/gene_19444\n",
      "http://erias.fr/oregano/gene/gene_4366\n",
      "http://erias.fr/oregano/gene/gene_752\n",
      "http://erias.fr/oregano/gene/gene_13618\n",
      "http://erias.fr/oregano/gene/gene_5055\n",
      "http://erias.fr/oregano/gene/gene_3755\n",
      "http://erias.fr/oregano/disease/disease_804\n",
      "http://erias.fr/oregano/gene/gene_4349\n",
      "http://erias.fr/oregano/gene/gene_4368\n",
      "http://erias.fr/oregano/gene/gene_1662\n",
      "http://erias.fr/oregano/gene/gene_4346\n",
      "http://erias.fr/oregano/gene/gene_48\n",
      "http://erias.fr/oregano/gene/gene_4328\n",
      "http://erias.fr/oregano/compound/compound_1155\n",
      "http://erias.fr/oregano/compound/compound_917\n",
      "http://erias.fr/oregano/gene/gene_16153\n",
      "http://erias.fr/oregano/compound/compound_1131\n",
      "http://erias.fr/oregano/compound/compound_718\n",
      "http://erias.fr/oregano/gene/gene_12708\n",
      "http://erias.fr/oregano/compound/compound_460\n",
      "http://erias.fr/oregano/gene/gene_430\n"
     ]
    }
   ],
   "source": [
    "# # Extract the nodes from both graphs\n",
    "# nodes_train_graph = set(train_graph.nodes())\n",
    "# nodes_train_graph_2 = set(train_graph_2.nodes())\n",
    "# nodes_train_graph_3 = set(train_graph_3.nodes())\n",
    "# nodes_test_graph_4 = set(train_graph_4.nodes())\n",
    "\n",
    "\n",
    "# # Find the common nodes\n",
    "# common_nodes_1 = nodes_train_graph.intersection(nodes_train_graph_2)\n",
    "# common_nodes_2 = nodes_train_graph.intersection(nodes_train_graph_3)\n",
    "# common_nodes_3 = nodes_train_graph_2.intersection(nodes_train_graph_3)\n",
    "# common_nodes_4 = nodes_train_graph.intersection(nodes_test_graph_4)\n",
    "\n",
    "\n",
    "# # Print or use the common nodes\n",
    "# print('Common nodes between Alzheimer and Urinary:')\n",
    "# for node in common_nodes_1:\n",
    "#     print(node)"
   ]
  },
  {
   "cell_type": "code",
   "execution_count": 4,
   "id": "af9c2aea",
   "metadata": {},
   "outputs": [
    {
     "name": "stdout",
     "output_type": "stream",
     "text": [
      "Common nodes between Alzheimer and Depression:\n",
      "http://erias.fr/oregano/disease/disease_3310\n",
      "http://erias.fr/oregano/gene/gene_48\n",
      "http://erias.fr/oregano/gene/gene_4328\n",
      "http://erias.fr/oregano/gene/gene_4327\n",
      "http://erias.fr/oregano/gene/gene_510\n",
      "http://erias.fr/oregano/compound/compound_501\n",
      "http://erias.fr/oregano/gene/gene_13618\n",
      "http://erias.fr/oregano/gene/gene_4368\n",
      "http://erias.fr/oregano/gene/gene_4354\n"
     ]
    }
   ],
   "source": [
    "# # Print or use the common nodes\n",
    "# print('Common nodes between Alzheimer and Depression:')\n",
    "# for node in common_nodes_2:\n",
    "#     print(node)"
   ]
  },
  {
   "cell_type": "code",
   "execution_count": 5,
   "id": "9b7adc08",
   "metadata": {},
   "outputs": [
    {
     "name": "stdout",
     "output_type": "stream",
     "text": [
      "Common nodes between Urinary and Depression:\n",
      "http://erias.fr/oregano/gene/gene_4368\n",
      "http://erias.fr/oregano/gene/gene_4328\n",
      "http://erias.fr/oregano/gene/gene_48\n",
      "http://erias.fr/oregano/gene/gene_13618\n"
     ]
    }
   ],
   "source": [
    "# # Print or use the common nodes\n",
    "# print('Common nodes between Urinary and Depression:')\n",
    "# for node in common_nodes_3:\n",
    "#     print(node)"
   ]
  },
  {
   "cell_type": "code",
   "execution_count": 6,
   "id": "8833dceb",
   "metadata": {},
   "outputs": [
    {
     "name": "stdout",
     "output_type": "stream",
     "text": [
      "Common nodes between Brexpiprazole and Alzheimer:\n",
      "http://erias.fr/oregano/compound/compound_5540\n",
      "http://erias.fr/oregano/compound/compound_11868\n",
      "http://erias.fr/oregano/compound/compound_235\n",
      "http://erias.fr/oregano/compound/compound_1467\n",
      "http://erias.fr/oregano/compound/compound_329\n",
      "http://erias.fr/oregano/compound/compound_4653\n",
      "http://erias.fr/oregano/compound/compound_619\n",
      "http://erias.fr/oregano/compound/compound_282\n",
      "http://erias.fr/oregano/compound/compound_7873\n",
      "http://erias.fr/oregano/compound/compound_10152\n",
      "http://erias.fr/oregano/compound/compound_207\n",
      "http://erias.fr/oregano/compound/compound_11301\n",
      "http://erias.fr/oregano/compound/compound_918\n",
      "http://erias.fr/oregano/compound/compound_12740\n",
      "http://erias.fr/oregano/compound/compound_1277\n",
      "http://erias.fr/oregano/compound/compound_9389\n",
      "http://erias.fr/oregano/compound/compound_9617\n",
      "http://erias.fr/oregano/compound/compound_8134\n",
      "http://erias.fr/oregano/compound/compound_376\n",
      "http://erias.fr/oregano/compound/compound_1112\n",
      "http://erias.fr/oregano/compound/compound_9552\n",
      "http://erias.fr/oregano/compound/compound_12453\n",
      "http://erias.fr/oregano/compound/compound_365\n",
      "http://erias.fr/oregano/compound/compound_11539\n",
      "http://erias.fr/oregano/compound/compound_44\n",
      "http://erias.fr/oregano/compound/compound_5757\n",
      "http://erias.fr/oregano/compound/compound_1329\n",
      "http://erias.fr/oregano/compound/compound_5719\n",
      "http://erias.fr/oregano/compound/compound_11169\n",
      "http://erias.fr/oregano/compound/compound_11353\n",
      "http://erias.fr/oregano/compound/compound_4729\n",
      "http://erias.fr/oregano/compound/compound_5004\n",
      "http://erias.fr/oregano/compound/compound_8208\n",
      "http://erias.fr/oregano/compound/compound_639\n",
      "http://erias.fr/oregano/compound/compound_560\n",
      "http://erias.fr/oregano/compound/compound_722\n",
      "http://erias.fr/oregano/compound/compound_10050\n",
      "http://erias.fr/oregano/compound/compound_9641\n",
      "http://erias.fr/oregano/compound/compound_12772\n",
      "http://erias.fr/oregano/compound/compound_715\n",
      "http://erias.fr/oregano/compound/compound_5455\n",
      "http://erias.fr/oregano/compound/compound_8177\n",
      "http://erias.fr/oregano/compound/compound_9786\n",
      "http://erias.fr/oregano/compound/compound_11769\n",
      "http://erias.fr/oregano/compound/compound_187\n",
      "http://erias.fr/oregano/compound/compound_253\n",
      "http://erias.fr/oregano/compound/compound_1276\n",
      "http://erias.fr/oregano/compound/compound_201\n",
      "http://erias.fr/oregano/compound/compound_8037\n",
      "http://erias.fr/oregano/compound/compound_9510\n",
      "http://erias.fr/oregano/compound/compound_1044\n",
      "http://erias.fr/oregano/compound/compound_4793\n",
      "http://erias.fr/oregano/compound/compound_7372\n",
      "http://erias.fr/oregano/compound/compound_5765\n",
      "http://erias.fr/oregano/compound/compound_817\n",
      "http://erias.fr/oregano/compound/compound_10120\n",
      "http://erias.fr/oregano/compound/compound_5361\n",
      "http://erias.fr/oregano/compound/compound_9903\n",
      "http://erias.fr/oregano/compound/compound_822\n",
      "http://erias.fr/oregano/compound/compound_895\n",
      "http://erias.fr/oregano/compound/compound_1256\n",
      "http://erias.fr/oregano/compound/compound_9701\n",
      "http://erias.fr/oregano/compound/compound_10662\n",
      "http://erias.fr/oregano/compound/compound_348\n",
      "http://erias.fr/oregano/compound/compound_5745\n",
      "http://erias.fr/oregano/compound/compound_12558\n",
      "http://erias.fr/oregano/compound/compound_9742\n",
      "http://erias.fr/oregano/compound/compound_45\n",
      "http://erias.fr/oregano/compound/compound_7888\n",
      "http://erias.fr/oregano/compound/compound_11628\n",
      "http://erias.fr/oregano/compound/compound_5762\n",
      "http://erias.fr/oregano/compound/compound_11522\n",
      "http://erias.fr/oregano/compound/compound_999\n",
      "http://erias.fr/oregano/compound/compound_4592\n",
      "http://erias.fr/oregano/compound/compound_11410\n",
      "http://erias.fr/oregano/compound/compound_653\n",
      "http://erias.fr/oregano/compound/compound_380\n",
      "http://erias.fr/oregano/compound/compound_884\n",
      "http://erias.fr/oregano/compound/compound_11253\n",
      "http://erias.fr/oregano/compound/compound_8020\n",
      "http://erias.fr/oregano/compound/compound_1278\n",
      "http://erias.fr/oregano/compound/compound_682\n",
      "http://erias.fr/oregano/compound/compound_1231\n",
      "http://erias.fr/oregano/compound/compound_11268\n",
      "http://erias.fr/oregano/compound/compound_11467\n",
      "http://erias.fr/oregano/compound/compound_7980\n",
      "http://erias.fr/oregano/compound/compound_400\n",
      "http://erias.fr/oregano/compound/compound_8133\n",
      "http://erias.fr/oregano/compound/compound_1247\n",
      "http://erias.fr/oregano/compound/compound_357\n",
      "http://erias.fr/oregano/compound/compound_5442\n",
      "http://erias.fr/oregano/compound/compound_11108\n",
      "http://erias.fr/oregano/compound/compound_10312\n",
      "http://erias.fr/oregano/compound/compound_9474\n",
      "http://erias.fr/oregano/compound/compound_212\n",
      "http://erias.fr/oregano/compound/compound_1257\n",
      "http://erias.fr/oregano/compound/compound_9654\n",
      "http://erias.fr/oregano/compound/compound_11624\n",
      "http://erias.fr/oregano/compound/compound_9345\n",
      "http://erias.fr/oregano/compound/compound_10809\n",
      "http://erias.fr/oregano/compound/compound_951\n",
      "http://erias.fr/oregano/compound/compound_11109\n",
      "http://erias.fr/oregano/compound/compound_8138\n",
      "http://erias.fr/oregano/compound/compound_11261\n",
      "http://erias.fr/oregano/compound/compound_7986\n",
      "http://erias.fr/oregano/compound/compound_479\n",
      "http://erias.fr/oregano/compound/compound_8200\n",
      "http://erias.fr/oregano/compound/compound_8135\n",
      "http://erias.fr/oregano/compound/compound_10010\n",
      "http://erias.fr/oregano/compound/compound_7908\n",
      "http://erias.fr/oregano/compound/compound_1255\n",
      "http://erias.fr/oregano/compound/compound_1001\n",
      "http://erias.fr/oregano/compound/compound_9476\n",
      "http://erias.fr/oregano/compound/compound_11234\n",
      "http://erias.fr/oregano/compound/compound_5403\n",
      "http://erias.fr/oregano/compound/compound_7901\n",
      "http://erias.fr/oregano/compound/compound_1317\n",
      "http://erias.fr/oregano/compound/compound_8388\n",
      "http://erias.fr/oregano/compound/compound_1082\n",
      "http://erias.fr/oregano/compound/compound_10511\n",
      "http://erias.fr/oregano/compound/compound_385\n",
      "http://erias.fr/oregano/compound/compound_12807\n",
      "http://erias.fr/oregano/compound/compound_313\n",
      "http://erias.fr/oregano/compound/compound_13755\n",
      "http://erias.fr/oregano/compound/compound_1100\n",
      "http://erias.fr/oregano/compound/compound_11006\n",
      "http://erias.fr/oregano/compound/compound_1267\n",
      "http://erias.fr/oregano/compound/compound_615\n",
      "http://erias.fr/oregano/compound/compound_897\n",
      "http://erias.fr/oregano/compound/compound_5418\n",
      "http://erias.fr/oregano/compound/compound_5758\n",
      "http://erias.fr/oregano/compound/compound_274\n",
      "http://erias.fr/oregano/compound/compound_9432\n",
      "http://erias.fr/oregano/compound/compound_482\n",
      "http://erias.fr/oregano/compound/compound_375\n",
      "http://erias.fr/oregano/compound/compound_9696\n",
      "http://erias.fr/oregano/compound/compound_1346\n",
      "http://erias.fr/oregano/compound/compound_4594\n",
      "http://erias.fr/oregano/compound/compound_11299\n",
      "http://erias.fr/oregano/compound/compound_1024\n",
      "http://erias.fr/oregano/compound/compound_4562\n",
      "http://erias.fr/oregano/compound/compound_9136\n",
      "http://erias.fr/oregano/compound/compound_854\n",
      "http://erias.fr/oregano/compound/compound_5857\n",
      "http://erias.fr/oregano/compound/compound_402\n",
      "http://erias.fr/oregano/compound/compound_180\n",
      "http://erias.fr/oregano/compound/compound_850\n",
      "http://erias.fr/oregano/compound/compound_10597\n",
      "http://erias.fr/oregano/compound/compound_320\n",
      "http://erias.fr/oregano/compound/compound_68\n",
      "http://erias.fr/oregano/compound/compound_1240\n",
      "http://erias.fr/oregano/compound/compound_220\n",
      "http://erias.fr/oregano/compound/compound_8338\n",
      "http://erias.fr/oregano/compound/compound_1266\n",
      "http://erias.fr/oregano/compound/compound_9485\n",
      "http://erias.fr/oregano/compound/compound_11320\n",
      "http://erias.fr/oregano/compound/compound_8136\n",
      "http://erias.fr/oregano/compound/compound_1047\n",
      "http://erias.fr/oregano/compound/compound_1319\n",
      "http://erias.fr/oregano/compound/compound_5646\n",
      "http://erias.fr/oregano/compound/compound_8022\n",
      "http://erias.fr/oregano/compound/compound_1104\n",
      "http://erias.fr/oregano/compound/compound_984\n",
      "http://erias.fr/oregano/compound/compound_8137\n",
      "http://erias.fr/oregano/compound/compound_1620\n",
      "http://erias.fr/oregano/compound/compound_657\n",
      "http://erias.fr/oregano/compound/compound_10317\n",
      "http://erias.fr/oregano/compound/compound_10418\n",
      "http://erias.fr/oregano/compound/compound_7904\n",
      "http://erias.fr/oregano/compound/compound_799\n",
      "http://erias.fr/oregano/compound/compound_9491\n",
      "http://erias.fr/oregano/compound/compound_7985\n",
      "http://erias.fr/oregano/compound/compound_9811\n",
      "http://erias.fr/oregano/compound/compound_1253\n",
      "http://erias.fr/oregano/compound/compound_708\n",
      "http://erias.fr/oregano/compound/compound_211\n",
      "http://erias.fr/oregano/compound/compound_9673\n",
      "http://erias.fr/oregano/compound/compound_820\n",
      "http://erias.fr/oregano/compound/compound_1997\n",
      "http://erias.fr/oregano/compound/compound_4546\n",
      "http://erias.fr/oregano/compound/compound_10660\n",
      "http://erias.fr/oregano/compound/compound_824\n",
      "http://erias.fr/oregano/compound/compound_1265\n",
      "http://erias.fr/oregano/compound/compound_7930\n",
      "http://erias.fr/oregano/compound/compound_10664\n",
      "http://erias.fr/oregano/compound/compound_1164\n",
      "http://erias.fr/oregano/compound/compound_793\n",
      "http://erias.fr/oregano/compound/compound_998\n",
      "http://erias.fr/oregano/compound/compound_5516\n",
      "http://erias.fr/oregano/compound/compound_1232\n",
      "http://erias.fr/oregano/compound/compound_966\n",
      "http://erias.fr/oregano/compound/compound_7967\n",
      "http://erias.fr/oregano/compound/compound_921\n",
      "http://erias.fr/oregano/compound/compound_11861\n",
      "http://erias.fr/oregano/compound/compound_10172\n",
      "http://erias.fr/oregano/compound/compound_898\n",
      "http://erias.fr/oregano/compound/compound_7859\n",
      "http://erias.fr/oregano/compound/compound_1347\n",
      "http://erias.fr/oregano/compound/compound_10723\n",
      "http://erias.fr/oregano/compound/compound_9739\n",
      "http://erias.fr/oregano/compound/compound_29\n",
      "http://erias.fr/oregano/compound/compound_1316\n",
      "http://erias.fr/oregano/compound/compound_9269\n",
      "http://erias.fr/oregano/compound/compound_4577\n",
      "http://erias.fr/oregano/compound/compound_7942\n",
      "http://erias.fr/oregano/compound/compound_1408\n",
      "http://erias.fr/oregano/compound/compound_596\n",
      "http://erias.fr/oregano/compound/compound_5813\n",
      "http://erias.fr/oregano/compound/compound_9861\n",
      "http://erias.fr/oregano/compound/compound_11484\n"
     ]
    }
   ],
   "source": [
    "# print('Common nodes between Brexpiprazole and Alzheimer:')\n",
    "# for node in common_nodes_4:\n",
    "#     print(node)"
   ]
  },
  {
   "cell_type": "markdown",
   "id": "00163c7f",
   "metadata": {},
   "source": [
    "# 3D visualization of the graph"
   ]
  },
  {
   "cell_type": "code",
   "execution_count": 2,
   "id": "cec522eb",
   "metadata": {},
   "outputs": [],
   "source": [
    "# # Combine train graphs into a single graph\n",
    "# combined_graph = nx.compose(train_graph, train_graph_2)\n",
    "# combined_graph = nx.compose(combined_graph, train_graph_3)\n",
    "# combined_graph = nx.compose(combined_graph, train_graph_4)\n"
   ]
  },
  {
   "cell_type": "code",
   "execution_count": 3,
   "id": "323d3315",
   "metadata": {},
   "outputs": [],
   "source": [
    "# # Positions for all nodes in 3D\n",
    "# pos_3d = nx.spring_layout(combined_graph, dim=3)\n",
    "\n",
    "# # Extract x, y, z coordinates from the layout\n",
    "# x = [pos_3d[node][0] for node in combined_graph.nodes()]\n",
    "# y = [pos_3d[node][1] for node in combined_graph.nodes()]\n",
    "# z = [pos_3d[node][2] for node in combined_graph.nodes()]\n",
    "\n",
    "# # Create trace for nodes\n",
    "# node_trace = go.Scatter3d(\n",
    "#     x=x,\n",
    "#     y=y,\n",
    "#     z=z,\n",
    "#     mode='markers',\n",
    "#     marker=dict(\n",
    "#         size=5,\n",
    "#         color='blue',                # Node color\n",
    "#         opacity=0.8\n",
    "#     )\n",
    "# )\n",
    "\n",
    "# # Create trace for edges\n",
    "# edge_trace = go.Scatter3d(\n",
    "#     x=[],\n",
    "#     y=[],\n",
    "#     z=[],\n",
    "#     mode='lines',\n",
    "#     line=dict(color='gray', width=1),\n",
    "# )\n",
    "\n",
    "# # Add edge coordinates to the edge trace\n",
    "# for edge in combined_graph.edges():\n",
    "#     x0, y0, z0 = pos_3d[edge[0]]\n",
    "#     x1, y1, z1 = pos_3d[edge[1]]\n",
    "#     edge_trace['x'] += (x0, x1, None)\n",
    "#     edge_trace['y'] += (y0, y1, None)\n",
    "#     edge_trace['z'] += (z0, z1, None)\n",
    "\n",
    "# # Create figure\n",
    "# fig = go.Figure(data=[node_trace, edge_trace],\n",
    "#                 layout=go.Layout(\n",
    "#                     title='Graph 3D Visualization',\n",
    "#                     showlegend=False,\n",
    "#                     scene=dict(\n",
    "#                         xaxis=dict(title='X'),\n",
    "#                         yaxis=dict(title='Y'),\n",
    "#                         zaxis=dict(title='Z')\n",
    "#                     )\n",
    "#                 ))\n",
    "\n",
    "# # Show the figure\n",
    "# pio.show(fig)"
   ]
  },
  {
   "cell_type": "code",
   "execution_count": null,
   "id": "a5d86313",
   "metadata": {},
   "outputs": [],
   "source": [
    "# # Load RDF data\n",
    "# g1 = rdflib.Graph()\n",
    "# g2 = rdflib.Graph()\n",
    "# g3 = rdflib.Graph()\n",
    "# g4 = rdflib.Graph()\n",
    "# g5 = rdflib.Graph()\n",
    "# g6 = rdflib.Graph()\n",
    "# g7 = rdflib.Graph()\n",
    "\n",
    "# g1.parse(\"alzheimer_direct_neighborhood.rdf\", format=\"xml\")\n",
    "# g2.parse(\"depression_direct_neighborhood_only.rdf\", format=\"xml\")\n",
    "# g3.parse(\"urinary_direct_neighborhood_only.rdf\", format=\"xml\")\n",
    "# g4.parse(\"brexpiprazole_direct_neighborhood_only.rdf\", format=\"xml\")\n",
    "# g5.parse(\"cardiovascular_direct_neighborhood.rdf\", format=\"xml\")\n",
    "# g6.parse(\"breast_direct_neighborhood.rdf\", format=\"xml\")\n",
    "# g7.parse(\"ovarian_direct_neighborhood_only.rdf\", format=\"xml\")\n",
    "\n",
    "# # Combine RDF graphs\n",
    "# g_combined = g1 + g2 + g3 + g4 + g5 + g6 + g7\n",
    "\n",
    "\n",
    "# # Define the edge label mapping\n",
    "# edge_label_mapping = {\n",
    "#     'http://erias.fr/oregano/#has_code',\n",
    "#     'http://erias.fr/oregano/#has_effect',\n",
    "#     'http://erias.fr/oregano/#increase_effect',\n",
    "#     'http://erias.fr/oregano/#decrease_effect',\n",
    "#     'http://erias.fr/oregano/#increase_efficacy',\n",
    "#     'http://erias.fr/oregano/#decreases_efficacy',\n",
    "#     'http://erias.fr/oregano/#has_indication',\n",
    "#     'http://erias.fr/oregano/#has_activity',\n",
    "#     'http://erias.fr/oregano/#increase_activity',\n",
    "#     'http://erias.fr/oregano/#decrease_activity',\n",
    "#     'http://erias.fr/oregano/#has_side_effect',\n",
    "#     'http://erias.fr/oregano/#has_target',\n",
    "#     'http://erias.fr/oregano/#is_affecting',\n",
    "#     'http://erias.fr/oregano/#is_substance_that_treats',\n",
    "#     'http://erias.fr/oregano/#acts_within',\n",
    "#     'http://erias.fr/oregano/#causes_condition',\n",
    "#     'http://erias.fr/oregano/#gene_product_of',\n",
    "#     'http://erias.fr/oregano/#has_phenotype'\n",
    "# }\n",
    "\n",
    "# # Initialize the network\n",
    "# net = Network(notebook=True, cdn_resources='remote')\n",
    "\n",
    "# # Extract nodes and edges from the combined RDF graph\n",
    "# nodes = set()\n",
    "# edges = set()\n",
    "\n",
    "# for s, p, o in g_combined:\n",
    "#     relation = str(p)\n",
    "#     if relation in edge_label_mapping:\n",
    "#         nodes.add(s)\n",
    "#         nodes.add(o)\n",
    "#         edges.add((s, o))\n",
    "\n",
    "# # Add nodes to the network\n",
    "# for node in nodes:\n",
    "#     net.add_node(str(node), label=str(node))\n",
    "\n",
    "# # Add edges to the network\n",
    "# for edge in edges:\n",
    "#     net.add_edge(str(edge[0]), str(edge[1]))\n",
    "\n",
    "# # Set physics layout for better appearance\n",
    "# net.show_buttons(filter_=['physics'])\n",
    "\n",
    "# # Generate and display the network graph\n",
    "# net.show(\"combined_graph.html\")"
   ]
  },
  {
   "cell_type": "markdown",
   "id": "402595cf",
   "metadata": {},
   "source": [
    "# Create a graph with all the relations in interest"
   ]
  },
  {
   "cell_type": "code",
   "execution_count": 1,
   "id": "c16edbb6",
   "metadata": {},
   "outputs": [
    {
     "name": "stdout",
     "output_type": "stream",
     "text": [
      "Filtered graph has been saved to filtered_graph.rdf\n"
     ]
    }
   ],
   "source": [
    "# from rdflib import Graph, URIRef\n",
    "\n",
    "# # Define the edge labels to include\n",
    "# edge_label_mapping = {\n",
    "#     URIRef('http://erias.fr/oregano/#has_effect'),\n",
    "#     URIRef('http://erias.fr/oregano/#increase_effect'),\n",
    "#     URIRef('http://erias.fr/oregano/#decrease_effect'),\n",
    "#     URIRef('http://erias.fr/oregano/#increase_efficacy'),\n",
    "#     URIRef('http://erias.fr/oregano/#decreases_efficacy'),\n",
    "#     URIRef('http://erias.fr/oregano/#has_indication'),\n",
    "#     URIRef('http://erias.fr/oregano/#has_activity'),\n",
    "#     URIRef('http://erias.fr/oregano/#increase_activity'),\n",
    "#     URIRef('http://erias.fr/oregano/#decrease_activity'),\n",
    "#     URIRef('http://erias.fr/oregano/#has_side_effect'),\n",
    "#     URIRef('http://erias.fr/oregano/#has_target'),\n",
    "#     URIRef('http://erias.fr/oregano/#is_affecting'),\n",
    "#     URIRef('http://erias.fr/oregano/#is_substance_that_treats'),\n",
    "#     URIRef('http://erias.fr/oregano/#acts_within'),\n",
    "#     URIRef('http://erias.fr/oregano/#causes_condition'),\n",
    "#     URIRef('http://erias.fr/oregano/#gene_product_of'),\n",
    "#     URIRef('http://erias.fr/oregano/#has_phenotype')\n",
    "# }\n",
    "\n",
    "# # Load RDF graph\n",
    "# graph = Graph()\n",
    "# graph.parse(\"oreganov2.1.rdf\", format=\"xml\")\n",
    "\n",
    "# def filter_graph_by_edge_labels(graph, edge_labels):\n",
    "#     # Create a new graph to hold the filtered triples\n",
    "#     filtered_graph = Graph()\n",
    "    \n",
    "#     # Iterate through all triples in the original graph\n",
    "#     for s, p, o in graph:\n",
    "#         if p in edge_labels:\n",
    "#             filtered_graph.add((s, p, o))\n",
    "    \n",
    "#     # Collect all nodes (subjects and objects) involved in the filtered triples\n",
    "#     nodes_to_include = set()\n",
    "#     for s, p, o in filtered_graph:\n",
    "#         nodes_to_include.add(s)\n",
    "#         nodes_to_include.add(o)\n",
    "    \n",
    "#     # Create a new graph with only these nodes and relevant edges\n",
    "#     final_filtered_graph = Graph()\n",
    "#     for s, p, o in graph:\n",
    "#         if s in nodes_to_include and o in nodes_to_include:\n",
    "#             final_filtered_graph.add((s, p, o))\n",
    "    \n",
    "#     return final_filtered_graph\n",
    "\n",
    "# # Filter the graph\n",
    "# filtered_graph = filter_graph_by_edge_labels(graph, edge_label_mapping)\n",
    "\n",
    "# # Specify the output file\n",
    "# output_file = \"filtered_graph.rdf\"\n",
    "\n",
    "# # Serialize the filtered graph to the output file\n",
    "# filtered_graph.serialize(destination=output_file, format='xml')\n",
    "\n",
    "# print(f\"Filtered graph has been saved to {output_file}\")"
   ]
  },
  {
   "cell_type": "code",
   "execution_count": 5,
   "id": "eb3b0349",
   "metadata": {},
   "outputs": [
    {
     "name": "stdout",
     "output_type": "stream",
     "text": [
      "CSV file with triples has been saved to filtered_graph.csv\n"
     ]
    }
   ],
   "source": [
    "# import csv\n",
    "# from rdflib import Literal, Namespace\n",
    "\n",
    "\n",
    "# # Specify the CSV output file\n",
    "# csv_file = \"filtered_graph.csv\"\n",
    "\n",
    "# # Write triples to CSV\n",
    "# with open(csv_file, mode='w', newline='', encoding='utf-8') as file:\n",
    "#     writer = csv.writer(file)\n",
    "#     writer.writerow(['Subject', 'Predicate', 'Object'])  # Header\n",
    "    \n",
    "#     for s, p, o in filtered_graph:\n",
    "#         subject = str(s)\n",
    "#         predicate = str(p)\n",
    "#         obj = str(o)\n",
    "        \n",
    "#         # Check if the object is a literal\n",
    "#         if isinstance(o, Literal):\n",
    "#             obj = f'\"{o}\"'\n",
    "        \n",
    "#         writer.writerow([subject, predicate, obj])\n",
    "\n",
    "# print(f\"CSV file with triples has been saved to {csv_file}\")"
   ]
  },
  {
   "cell_type": "code",
   "execution_count": 6,
   "id": "eeacd931",
   "metadata": {},
   "outputs": [
    {
     "name": "stdout",
     "output_type": "stream",
     "text": [
      "GraphML file has been saved to filtered_graph.graphml\n"
     ]
    }
   ],
   "source": [
    "# import networkx as nx\n",
    "# from rdflib import Graph, URIRef\n",
    "\n",
    "# # Load RDF graph\n",
    "# filtered_graph = Graph()\n",
    "# filtered_graph.parse(\"filtered_graph.rdf\", format=\"xml\")\n",
    "\n",
    "# # Create a NetworkX graph\n",
    "# G = nx.DiGraph()\n",
    "\n",
    "# # Add triples to the NetworkX graph\n",
    "# for s, p, o in filtered_graph:\n",
    "#     G.add_edge(str(s), str(o), label=str(p))\n",
    "\n",
    "# # Specify the GraphML output file\n",
    "# graphml_file = \"filtered_graph.graphml\"\n",
    "\n",
    "# # Write the NetworkX graph to a GraphML file\n",
    "# nx.write_graphml(G, graphml_file)\n",
    "\n",
    "# print(f\"GraphML file has been saved to {graphml_file}\")\n"
   ]
  },
  {
   "cell_type": "code",
   "execution_count": null,
   "id": "6eae0e69",
   "metadata": {},
   "outputs": [],
   "source": []
  }
 ],
 "metadata": {
  "kernelspec": {
   "display_name": "Python 3 (ipykernel)",
   "language": "python",
   "name": "python3"
  },
  "language_info": {
   "codemirror_mode": {
    "name": "ipython",
    "version": 3
   },
   "file_extension": ".py",
   "mimetype": "text/x-python",
   "name": "python",
   "nbconvert_exporter": "python",
   "pygments_lexer": "ipython3",
   "version": "3.11.5"
  }
 },
 "nbformat": 4,
 "nbformat_minor": 5
}
